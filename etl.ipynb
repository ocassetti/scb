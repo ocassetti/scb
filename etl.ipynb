{
 "cells": [
  {
   "cell_type": "code",
   "execution_count": 1,
   "metadata": {},
   "outputs": [],
   "source": [
    "from pyspark import SparkConf\n",
    "from pyspark.sql import SparkSession\n",
    "conf = SparkConf().setMaster(\"local[4]\").setAppName(\"etl\").set(\"spark.scheduler.mode\", \"FAIR\").set(\"spark.jars\", \"resources/jars/sqlite-jdbc-3.32.3.2.jar\")\n",
    "conf = conf.set(\"spark.driver.memory\", \"2g\")\n",
    "\n",
    "spark = SparkSession.builder.config(conf=conf).enableHiveSupport().getOrCreate()\n"
   ]
  },
  {
   "cell_type": "code",
   "execution_count": 8,
   "metadata": {},
   "outputs": [
    {
     "data": {
      "text/plain": [
       "{'socialgraph': DataFrame[first_user_id: int, second_user_id: int],\n",
       " 'checkins': DataFrame[id: int, user_id: int, venue_id: int, latitude: double, longitude: double, created_at: string],\n",
       " 'users': DataFrame[id: int, latitude: double, longitude: double],\n",
       " 'venues': DataFrame[id: int, latitude: double, longitude: double],\n",
       " 'ratings': DataFrame[user_id: int, venue_id: int, rating: int]}"
      ]
     },
     "execution_count": 8,
     "metadata": {},
     "output_type": "execute_result"
    }
   ],
   "source": [
    "db_url = \"jdbc:sqlite:resources/source_db/fsdata.db\"\n",
    "\n",
    "source_tables = {\"checkins\", \"ratings\", \"socialgraph\", \"users\",  \"venues\"}\n",
    "\n",
    "source_df = {}\n",
    "for table in source_tables:\n",
    "    source_df[table] = spark.read.format('jdbc').options(url=db_url, dbtable=table ,driver='org.sqlite.JDBC').load()\n",
    "    source_df[table].createOrReplaceTempView(table)\n",
    "\n",
    "source_df"
   ]
  },
  {
   "cell_type": "code",
   "execution_count": 54,
   "metadata": {},
   "outputs": [],
   "source": [
    "checkins_augment = spark.sql(\"\"\"select c.id, c.user_id, venue_id, v.latitude, v.longitude, c.latitude c_latitude , c.longitude c_longitude, \n",
    "sqrt( pow(v.latitude - c.latitude, 2) + pow(v.longitude - c.longitude, 2)) dst,\n",
    "timestamp(created_at) as created_at, \n",
    "count(1) over(partition by user_id) total_chk, \n",
    "row_number() over(partition by user_id order by timestamp(created_at)) checkin_seq, \n",
    "count(1) over(partition by user_id, venue_id) total_venue_chk\n",
    "from checkins c left join venues v on v.id = c.venue_id \"\"\")\n",
    "checkins_augment.createOrReplaceTempView(\"checkins_agg\")"
   ]
  },
  {
   "cell_type": "code",
   "execution_count": 76,
   "metadata": {},
   "outputs": [],
   "source": [
    "socical_graph_rollup = spark.sql(\"select first_user_id, collect_set(second_user_id) friends from socialgraph group by 1\")\n",
    "socical_graph_rollup.createOrReplaceTempView(\"socical_graph_rollup\")\n",
    "checkins_rollup = spark.sql(\"\"\"select c.user_id, collect_list(struct(c.id, c.venue_id, c.latitude, c.longitude, c.c_latitude, c.c_longitude, c.created_at, r.rating, c.total_chk, c.checkin_seq, c.total_venue_chk, c.dst)) chks, \n",
    "count(1) total_chk,\n",
    "count(distinct c.venue_id) distinct_chk,\n",
    "approx_percentile(dst, 0.50) median_dst, \n",
    "approx_percentile(r.rating, 0.50) median_rating,\n",
    "approx_percentile(r.rating, 0.95) p95_rating\n",
    "from  checkins_agg c left join (select user_id, venue_id, avg(rating) rating from ratings group by 1,2) r on r.user_id = c.user_id and r.venue_id = c.venue_id group by 1 \"\"\")\n",
    "checkins_rollup.createOrReplaceTempView(\"checkins_rollup\")\n",
    "profiles = spark.sql(\"\"\"select u.id, u.latitude u_latitude, u.longitude u_longitude, c.*, g.friends\n",
    "from users u \n",
    "inner join checkins_rollup c on u.id = c.user_id\n",
    "left join socical_graph_rollup g on u.id = g.first_user_id\n",
    "order by total_chk desc\n",
    "\"\"\")"
   ]
  },
  {
   "cell_type": "markdown",
   "metadata": {},
   "source": [
    "Note that a user can leave rating without visiting the place\n",
    "\n",
    "* We can not link them to the checkin anyway"
   ]
  },
  {
   "cell_type": "code",
   "execution_count": 86,
   "metadata": {},
   "outputs": [],
   "source": [
    "profiles.createOrReplaceTempView(\"profiles\")"
   ]
  },
  {
   "cell_type": "code",
   "execution_count": 79,
   "metadata": {},
   "outputs": [],
   "source": [
    "profiles.write.format(\"orc\").mode(\"overwrite\").save(\"data/profiles\")"
   ]
  },
  {
   "cell_type": "code",
   "execution_count": 82,
   "metadata": {},
   "outputs": [],
   "source": [
    "checkin_asl = spark.sql(\"select c.user_id, c.venue_id, max(c.total_venue_chk)  total_venue_chk, avg(r.rating) rating from checkins_agg c left join (select user_id, venue_id, avg(rating) rating from ratings group by 1,2)  r on r.user_id = c.user_id and r.venue_id = c.venue_id group by 1,2\")\n",
    "checkin_asl.write.format(\"orc\").mode(\"overwrite\").save(\"data/checkins\")"
   ]
  },
  {
   "cell_type": "code",
   "execution_count": 100,
   "metadata": {},
   "outputs": [
    {
     "name": "stdout",
     "output_type": "stream",
     "text": [
      "+-------+----------+------------+-------+----------------------------------------------------------------------------------------------------+---------+------------+-------------------+------------------+------------------+----------------------------------------------------------------------------------------------------+\n",
      "|     id|u_latitude| u_longitude|user_id|                                                                                                chks|total_chk|distinct_chk|         median_dst|     median_rating|        p95_rating|                                                                                             friends|\n",
      "+-------+----------+------------+-------+----------------------------------------------------------------------------------------------------+---------+------------+-------------------+------------------+------------------+----------------------------------------------------------------------------------------------------+\n",
      "|1348362|47.6062095|-122.3320708|1348362|[[225787, 39731, 47.6239018, -122.3209124, 0.0, 0.0, 2011-12-14 15:41:29, 2.0, 57, 12, 2, 131.264...|       57|           3| 131.18246891569018|               2.0|               2.0|                                                                                                null|\n",
      "|1900906| 36.114646| -115.172816|1900906|[[829284, 1110864, 32.7153292, -117.1572551, 0.0, 0.0, 2012-03-31 16:55:56, 2.0, 52, 30, 1, 121.6...|       52|           6|  123.1744182865785|               2.0|               2.0|                                                                                                null|\n",
      "|1326476|33.0581063|-112.0476423|1326476|[[903012, 7620, 33.9438939769847, -118.405022621155, 33.0581063, -112.0476423, 2012-04-03 00:29:2...|       48|          20|  5.159949974360439|               2.0|               2.0|                                                                                            [938359]|\n",
      "| 386648|33.4483771|-112.0740373| 386648|[[302134, 1011459, 33.43548375, -111.98585925, 33.4483771, -112.0740373, 2011-12-24 12:24:19, 2.0...|       47|           5|0.07282589256806542| 2.066666666666667| 2.230769230769231|[600697, 1324240, 1701344, 1762490, 2120532, 1725476, 2120482, 2120453, 1849023, 1707272, 1700376...|\n",
      "|1365850| 36.114646| -115.172816|1365850|[[340345, 32679, 26.0710853213301, -80.1408863067627, 0.0, 0.0, 2011-12-25 15:33:58, 2.0, 47, 11,...|       47|          21| 116.88665494730571|               2.0|               2.0|                                                                                            [625217]|\n",
      "| 467043|41.8781136| -87.6297982| 467043|[[545429, 21948, 40.7866829344275, -111.981925964355, 41.8781136, -87.6297982, 2012-01-27 20:52:5...|       46|          20| 15.396965322621718|               2.0|               2.0|                                [15796, 147171, 143488, 40531, 631267, 30717, 304867, 50176, 923671]|\n",
      "|   8622|37.7749295|-122.4194155|   8622|[[161488, 12004, 32.7323463071224, -117.197299003601, 37.7749295, -122.4194155, 2011-12-12 02:59:...|       45|          11| 0.1619575002300555|2.3658536585365852|2.3658536585365852|[264259, 191043, 9917, 4495, 23028, 52, 12574, 35877, 29714, 4489, 171205, 187743, 378697, 756259...|\n",
      "| 304865|33.4483771|-112.0740373| 304865|[[693892, 584968, 33.487849227561, -112.074505090714, 33.4483771, -112.0740373, 2012-03-17 02:46:...|       45|           5|0.07282589256806542|               2.0|               2.0|                                             [221263, 150075, 921310, 111672, 47718, 304885, 304868]|\n",
      "| 651415|32.7153292|-117.1572551| 651415|[[268927, 60, 36.0850548192444, -115.149936676025, 32.7153292, -117.1572551, 2011-12-23 20:45:31,...|       45|          21|  5.137370874765637|               2.0|               2.0|[651287, 784131, 204132, 690146, 52392, 690140, 108724, 129043, 46616, 651297, 37520, 144115, 130...|\n",
      "| 439413|39.2903848| -76.6121893| 439413|[[502417, 7489, 42.2077950049541, -83.3562970161438, 39.2903848, -76.6121893, 2012-01-26 19:16:22...|       45|           6|  35.87086890804576|               2.0|               2.0|                                                      [111496, 150075, 1121183, 95927, 87045, 13372]|\n",
      "+-------+----------+------------+-------+----------------------------------------------------------------------------------------------------+---------+------------+-------------------+------------------+------------------+----------------------------------------------------------------------------------------------------+\n",
      "only showing top 10 rows\n",
      "\n"
     ]
    },
    {
     "data": {
      "text/plain": [
       "[Row(id=1348362, u_latitude=47.6062095, u_longitude=-122.3320708, user_id=1348362, chks=[Row(id=225787, venue_id=39731, latitude=47.6239018, longitude=-122.3209124, c_latitude=0.0, c_longitude=0.0, created_at=datetime.datetime(2011, 12, 14, 15, 41, 29), rating=2.0, total_chk=57, checkin_seq=12, total_venue_chk=2, dst=131.26477681779113), Row(id=406394, venue_id=39731, latitude=47.6239018, longitude=-122.3209124, c_latitude=0.0, c_longitude=0.0, created_at=datetime.datetime(2011, 12, 27, 5, 17, 45), rating=2.0, total_chk=57, checkin_seq=22, total_venue_chk=2, dst=131.26477681779113), Row(id=25078, venue_id=169552, latitude=47.612879, longitude=-122.318902, c_latitude=0.0, c_longitude=0.0, created_at=datetime.datetime(2011, 12, 9, 11, 20, 48), rating=2.0, total_chk=57, checkin_seq=1, total_venue_chk=2, dst=131.2589045861432), Row(id=641158, venue_id=169552, latitude=47.612879, longitude=-122.318902, c_latitude=0.0, c_longitude=0.0, created_at=datetime.datetime(2012, 1, 31, 4, 47, 52), rating=2.0, total_chk=57, checkin_seq=36, total_venue_chk=2, dst=131.2589045861432), Row(id=56284, venue_id=7491, latitude=47.4437046313619, longitude=-122.30263710022, c_latitude=0.0, c_longitude=0.0, created_at=datetime.datetime(2011, 12, 10, 8, 6, 39), rating=2.0, total_chk=57, checkin_seq=2, total_venue_chk=53, dst=131.18246891569018), Row(id=109548, venue_id=7491, latitude=47.4437046313619, longitude=-122.30263710022, c_latitude=0.0, c_longitude=0.0, created_at=datetime.datetime(2011, 12, 11, 2, 49, 39), rating=2.0, total_chk=57, checkin_seq=3, total_venue_chk=53, dst=131.18246891569018), Row(id=116881, venue_id=7491, latitude=47.4437046313619, longitude=-122.30263710022, c_latitude=0.0, c_longitude=0.0, created_at=datetime.datetime(2011, 12, 11, 4, 31, 45), rating=2.0, total_chk=57, checkin_seq=4, total_venue_chk=53, dst=131.18246891569018), Row(id=128882, venue_id=7491, latitude=47.4437046313619, longitude=-122.30263710022, c_latitude=0.0, c_longitude=0.0, created_at=datetime.datetime(2011, 12, 11, 12, 49, 14), rating=2.0, total_chk=57, checkin_seq=5, total_venue_chk=53, dst=131.18246891569018), Row(id=146131, venue_id=7491, latitude=47.4437046313619, longitude=-122.30263710022, c_latitude=0.0, c_longitude=0.0, created_at=datetime.datetime(2011, 12, 11, 21, 23, 19), rating=2.0, total_chk=57, checkin_seq=6, total_venue_chk=53, dst=131.18246891569018), Row(id=168151, venue_id=7491, latitude=47.4437046313619, longitude=-122.30263710022, c_latitude=0.0, c_longitude=0.0, created_at=datetime.datetime(2011, 12, 12, 7, 14, 55), rating=2.0, total_chk=57, checkin_seq=7, total_venue_chk=53, dst=131.18246891569018), Row(id=171886, venue_id=7491, latitude=47.4437046313619, longitude=-122.30263710022, c_latitude=0.0, c_longitude=0.0, created_at=datetime.datetime(2011, 12, 12, 13, 24, 57), rating=2.0, total_chk=57, checkin_seq=8, total_venue_chk=53, dst=131.18246891569018), Row(id=218280, venue_id=7491, latitude=47.4437046313619, longitude=-122.30263710022, c_latitude=0.0, c_longitude=0.0, created_at=datetime.datetime(2011, 12, 14, 7, 22, 58), rating=2.0, total_chk=57, checkin_seq=9, total_venue_chk=53, dst=131.18246891569018), Row(id=221962, venue_id=7491, latitude=47.4437046313619, longitude=-122.30263710022, c_latitude=0.0, c_longitude=0.0, created_at=datetime.datetime(2011, 12, 14, 13, 19, 38), rating=2.0, total_chk=57, checkin_seq=10, total_venue_chk=53, dst=131.18246891569018), Row(id=221963, venue_id=7491, latitude=47.4437046313619, longitude=-122.30263710022, c_latitude=0.0, c_longitude=0.0, created_at=datetime.datetime(2011, 12, 14, 13, 19, 38), rating=2.0, total_chk=57, checkin_seq=11, total_venue_chk=53, dst=131.18246891569018), Row(id=286438, venue_id=7491, latitude=47.4437046313619, longitude=-122.30263710022, c_latitude=0.0, c_longitude=0.0, created_at=datetime.datetime(2011, 12, 24, 2, 37, 54), rating=2.0, total_chk=57, checkin_seq=13, total_venue_chk=53, dst=131.18246891569018), Row(id=296403, venue_id=7491, latitude=47.4437046313619, longitude=-122.30263710022, c_latitude=0.0, c_longitude=0.0, created_at=datetime.datetime(2011, 12, 24, 7, 15, 32), rating=2.0, total_chk=57, checkin_seq=14, total_venue_chk=53, dst=131.18246891569018), Row(id=302484, venue_id=7491, latitude=47.4437046313619, longitude=-122.30263710022, c_latitude=0.0, c_longitude=0.0, created_at=datetime.datetime(2011, 12, 24, 12, 23, 12), rating=2.0, total_chk=57, checkin_seq=15, total_venue_chk=53, dst=131.18246891569018), Row(id=312808, venue_id=7491, latitude=47.4437046313619, longitude=-122.30263710022, c_latitude=0.0, c_longitude=0.0, created_at=datetime.datetime(2011, 12, 24, 18, 21, 35), rating=2.0, total_chk=57, checkin_seq=16, total_venue_chk=53, dst=131.18246891569018), Row(id=332521, venue_id=7491, latitude=47.4437046313619, longitude=-122.30263710022, c_latitude=0.0, c_longitude=0.0, created_at=datetime.datetime(2011, 12, 25, 6, 22, 49), rating=2.0, total_chk=57, checkin_seq=17, total_venue_chk=53, dst=131.18246891569018), Row(id=338601, venue_id=7491, latitude=47.4437046313619, longitude=-122.30263710022, c_latitude=0.0, c_longitude=0.0, created_at=datetime.datetime(2011, 12, 25, 14, 36), rating=2.0, total_chk=57, checkin_seq=18, total_venue_chk=53, dst=131.18246891569018), Row(id=360056, venue_id=7491, latitude=47.4437046313619, longitude=-122.30263710022, c_latitude=0.0, c_longitude=0.0, created_at=datetime.datetime(2011, 12, 26, 3, 56, 10), rating=2.0, total_chk=57, checkin_seq=19, total_venue_chk=53, dst=131.18246891569018), Row(id=369174, venue_id=7491, latitude=47.4437046313619, longitude=-122.30263710022, c_latitude=0.0, c_longitude=0.0, created_at=datetime.datetime(2011, 12, 26, 12, 15, 14), rating=2.0, total_chk=57, checkin_seq=20, total_venue_chk=53, dst=131.18246891569018), Row(id=404008, venue_id=7491, latitude=47.4437046313619, longitude=-122.30263710022, c_latitude=0.0, c_longitude=0.0, created_at=datetime.datetime(2011, 12, 27, 5, 15, 45), rating=2.0, total_chk=57, checkin_seq=21, total_venue_chk=53, dst=131.18246891569018), Row(id=406816, venue_id=7491, latitude=47.4437046313619, longitude=-122.30263710022, c_latitude=0.0, c_longitude=0.0, created_at=datetime.datetime(2011, 12, 27, 7, 16, 23), rating=2.0, total_chk=57, checkin_seq=23, total_venue_chk=53, dst=131.18246891569018), Row(id=415567, venue_id=7491, latitude=47.4437046313619, longitude=-122.30263710022, c_latitude=0.0, c_longitude=0.0, created_at=datetime.datetime(2012, 1, 23, 17, 27, 38), rating=2.0, total_chk=57, checkin_seq=24, total_venue_chk=53, dst=131.18246891569018), Row(id=474803, venue_id=7491, latitude=47.4437046313619, longitude=-122.30263710022, c_latitude=0.0, c_longitude=0.0, created_at=datetime.datetime(2012, 1, 26, 0, 36, 39), rating=2.0, total_chk=57, checkin_seq=25, total_venue_chk=53, dst=131.18246891569018), Row(id=492853, venue_id=7491, latitude=47.4437046313619, longitude=-122.30263710022, c_latitude=0.0, c_longitude=0.0, created_at=datetime.datetime(2012, 1, 26, 13, 41, 1), rating=2.0, total_chk=57, checkin_seq=26, total_venue_chk=53, dst=131.18246891569018), Row(id=505128, venue_id=7491, latitude=47.4437046313619, longitude=-122.30263710022, c_latitude=0.0, c_longitude=0.0, created_at=datetime.datetime(2012, 1, 26, 20, 16, 14), rating=2.0, total_chk=57, checkin_seq=27, total_venue_chk=53, dst=131.18246891569018), Row(id=507834, venue_id=7491, latitude=47.4437046313619, longitude=-122.30263710022, c_latitude=0.0, c_longitude=0.0, created_at=datetime.datetime(2012, 1, 26, 22, 29, 44), rating=2.0, total_chk=57, checkin_seq=28, total_venue_chk=53, dst=131.18246891569018), Row(id=515299, venue_id=7491, latitude=47.4437046313619, longitude=-122.30263710022, c_latitude=0.0, c_longitude=0.0, created_at=datetime.datetime(2012, 1, 27, 1, 18, 21), rating=2.0, total_chk=57, checkin_seq=29, total_venue_chk=53, dst=131.18246891569018), Row(id=538787, venue_id=7491, latitude=47.4437046313619, longitude=-122.30263710022, c_latitude=0.0, c_longitude=0.0, created_at=datetime.datetime(2012, 1, 27, 18, 22, 30), rating=2.0, total_chk=57, checkin_seq=30, total_venue_chk=53, dst=131.18246891569018), Row(id=546025, venue_id=7491, latitude=47.4437046313619, longitude=-122.30263710022, c_latitude=0.0, c_longitude=0.0, created_at=datetime.datetime(2012, 1, 27, 21, 29, 14), rating=2.0, total_chk=57, checkin_seq=31, total_venue_chk=53, dst=131.18246891569018), Row(id=573610, venue_id=7491, latitude=47.4437046313619, longitude=-122.30263710022, c_latitude=0.0, c_longitude=0.0, created_at=datetime.datetime(2012, 1, 28, 13, 10, 40), rating=2.0, total_chk=57, checkin_seq=32, total_venue_chk=53, dst=131.18246891569018), Row(id=576827, venue_id=7491, latitude=47.4437046313619, longitude=-122.30263710022, c_latitude=0.0, c_longitude=0.0, created_at=datetime.datetime(2012, 1, 28, 16, 32, 30), rating=2.0, total_chk=57, checkin_seq=33, total_venue_chk=53, dst=131.18246891569018), Row(id=582954, venue_id=7491, latitude=47.4437046313619, longitude=-122.30263710022, c_latitude=0.0, c_longitude=0.0, created_at=datetime.datetime(2012, 1, 28, 19, 42, 8), rating=2.0, total_chk=57, checkin_seq=34, total_venue_chk=53, dst=131.18246891569018), Row(id=609947, venue_id=7491, latitude=47.4437046313619, longitude=-122.30263710022, c_latitude=0.0, c_longitude=0.0, created_at=datetime.datetime(2012, 1, 29, 18, 18, 55), rating=2.0, total_chk=57, checkin_seq=35, total_venue_chk=53, dst=131.18246891569018), Row(id=643541, venue_id=7491, latitude=47.4437046313619, longitude=-122.30263710022, c_latitude=0.0, c_longitude=0.0, created_at=datetime.datetime(2012, 1, 31, 12, 20, 20), rating=2.0, total_chk=57, checkin_seq=37, total_venue_chk=53, dst=131.18246891569018), Row(id=669372, venue_id=7491, latitude=47.4437046313619, longitude=-122.30263710022, c_latitude=0.0, c_longitude=0.0, created_at=datetime.datetime(2012, 3, 16, 14, 54, 44), rating=2.0, total_chk=57, checkin_seq=38, total_venue_chk=53, dst=131.18246891569018), Row(id=697022, venue_id=7491, latitude=47.4437046313619, longitude=-122.30263710022, c_latitude=0.0, c_longitude=0.0, created_at=datetime.datetime(2012, 3, 17, 5, 54, 50), rating=2.0, total_chk=57, checkin_seq=39, total_venue_chk=53, dst=131.18246891569018), Row(id=700715, venue_id=7491, latitude=47.4437046313619, longitude=-122.30263710022, c_latitude=0.0, c_longitude=0.0, created_at=datetime.datetime(2012, 3, 17, 11, 42, 21), rating=2.0, total_chk=57, checkin_seq=40, total_venue_chk=53, dst=131.18246891569018), Row(id=701747, venue_id=7491, latitude=47.4437046313619, longitude=-122.30263710022, c_latitude=0.0, c_longitude=0.0, created_at=datetime.datetime(2012, 3, 17, 12, 48, 50), rating=2.0, total_chk=57, checkin_seq=41, total_venue_chk=53, dst=131.18246891569018), Row(id=736996, venue_id=7491, latitude=47.4437046313619, longitude=-122.30263710022, c_latitude=0.0, c_longitude=0.0, created_at=datetime.datetime(2012, 3, 18, 14, 58, 29), rating=2.0, total_chk=57, checkin_seq=42, total_venue_chk=53, dst=131.18246891569018), Row(id=759751, venue_id=7491, latitude=47.4437046313619, longitude=-122.30263710022, c_latitude=0.0, c_longitude=0.0, created_at=datetime.datetime(2012, 3, 19, 3, 28, 47), rating=2.0, total_chk=57, checkin_seq=43, total_venue_chk=53, dst=131.18246891569018), Row(id=766781, venue_id=7491, latitude=47.4437046313619, longitude=-122.30263710022, c_latitude=0.0, c_longitude=0.0, created_at=datetime.datetime(2012, 3, 19, 13, 2, 21), rating=2.0, total_chk=57, checkin_seq=44, total_venue_chk=53, dst=131.18246891569018), Row(id=769134, venue_id=7491, latitude=47.4437046313619, longitude=-122.30263710022, c_latitude=0.0, c_longitude=0.0, created_at=datetime.datetime(2012, 3, 19, 15, 9, 37), rating=2.0, total_chk=57, checkin_seq=45, total_venue_chk=53, dst=131.18246891569018), Row(id=791417, venue_id=7491, latitude=47.4437046313619, longitude=-122.30263710022, c_latitude=0.0, c_longitude=0.0, created_at=datetime.datetime(2012, 3, 20, 12, 14, 48), rating=2.0, total_chk=57, checkin_seq=46, total_venue_chk=53, dst=131.18246891569018), Row(id=814359, venue_id=7491, latitude=47.4437046313619, longitude=-122.30263710022, c_latitude=0.0, c_longitude=0.0, created_at=datetime.datetime(2012, 3, 30, 10, 53, 16), rating=2.0, total_chk=57, checkin_seq=47, total_venue_chk=53, dst=131.18246891569018), Row(id=816066, venue_id=7491, latitude=47.4437046313619, longitude=-122.30263710022, c_latitude=0.0, c_longitude=0.0, created_at=datetime.datetime(2012, 3, 30, 14, 59, 17), rating=2.0, total_chk=57, checkin_seq=48, total_venue_chk=53, dst=131.18246891569018), Row(id=826051, venue_id=7491, latitude=47.4437046313619, longitude=-122.30263710022, c_latitude=0.0, c_longitude=0.0, created_at=datetime.datetime(2012, 3, 30, 22, 33, 35), rating=2.0, total_chk=57, checkin_seq=49, total_venue_chk=53, dst=131.18246891569018), Row(id=886352, venue_id=7491, latitude=47.4437046313619, longitude=-122.30263710022, c_latitude=0.0, c_longitude=0.0, created_at=datetime.datetime(2012, 4, 2, 11, 26, 6), rating=2.0, total_chk=57, checkin_seq=50, total_venue_chk=53, dst=131.18246891569018), Row(id=887741, venue_id=7491, latitude=47.4437046313619, longitude=-122.30263710022, c_latitude=0.0, c_longitude=0.0, created_at=datetime.datetime(2012, 4, 2, 13, 26, 48), rating=2.0, total_chk=57, checkin_seq=51, total_venue_chk=53, dst=131.18246891569018), Row(id=911325, venue_id=7491, latitude=47.4437046313619, longitude=-122.30263710022, c_latitude=0.0, c_longitude=0.0, created_at=datetime.datetime(2012, 4, 3, 11, 55, 26), rating=2.0, total_chk=57, checkin_seq=52, total_venue_chk=53, dst=131.18246891569018), Row(id=917951, venue_id=7491, latitude=47.4437046313619, longitude=-122.30263710022, c_latitude=0.0, c_longitude=0.0, created_at=datetime.datetime(2012, 4, 4, 16, 35, 24), rating=2.0, total_chk=57, checkin_seq=53, total_venue_chk=53, dst=131.18246891569018), Row(id=922632, venue_id=7491, latitude=47.4437046313619, longitude=-122.30263710022, c_latitude=0.0, c_longitude=0.0, created_at=datetime.datetime(2012, 4, 6, 14, 2, 40), rating=2.0, total_chk=57, checkin_seq=54, total_venue_chk=53, dst=131.18246891569018), Row(id=951098, venue_id=7491, latitude=47.4437046313619, longitude=-122.30263710022, c_latitude=0.0, c_longitude=0.0, created_at=datetime.datetime(2012, 4, 13, 2, 13, 3), rating=2.0, total_chk=57, checkin_seq=55, total_venue_chk=53, dst=131.18246891569018), Row(id=976108, venue_id=7491, latitude=47.4437046313619, longitude=-122.30263710022, c_latitude=0.0, c_longitude=0.0, created_at=datetime.datetime(2012, 4, 21, 2, 8, 7), rating=2.0, total_chk=57, checkin_seq=56, total_venue_chk=53, dst=131.18246891569018), Row(id=1002628, venue_id=7491, latitude=47.4437046313619, longitude=-122.30263710022, c_latitude=47.6062095, c_longitude=-122.3320708, created_at=datetime.datetime(2012, 4, 22, 14, 35, 22), rating=2.0, total_chk=57, checkin_seq=57, total_venue_chk=53, dst=0.16514894796462887)], total_chk=57, distinct_chk=3, median_dst=131.18246891569018, median_rating=2.0, p95_rating=2.0, friends=None)]"
      ]
     },
     "execution_count": 100,
     "metadata": {},
     "output_type": "execute_result"
    }
   ],
   "source": [
    "profiles.show(10, 100)\n",
    "\n",
    "profiles.take(1)"
   ]
  },
  {
   "cell_type": "code",
   "execution_count": 99,
   "metadata": {},
   "outputs": [
    {
     "name": "stdout",
     "output_type": "stream",
     "text": [
      "+-------+--------+---------------+------------------+\n",
      "|user_id|venue_id|total_venue_chk|            rating|\n",
      "+-------+--------+---------------+------------------+\n",
      "|     57|    1179|              1|               2.5|\n",
      "|    111|    2297|              2|               2.0|\n",
      "|    551|     208|              1|               2.0|\n",
      "|   1419|   29488|              1|               2.0|\n",
      "|   1420|    5222|              1|               2.0|\n",
      "|   1762|  164449|              1|               3.5|\n",
      "|   2286|    5443|              1|3.6666666666666665|\n",
      "|   2760|  102410|              1|               2.0|\n",
      "|   3176|   12750|              1|               2.0|\n",
      "|   3534|  628045|              1|               2.0|\n",
      "+-------+--------+---------------+------------------+\n",
      "only showing top 10 rows\n",
      "\n"
     ]
    }
   ],
   "source": [
    "checkin_asl.show(10, 100)"
   ]
  },
  {
   "cell_type": "code",
   "execution_count": 95,
   "metadata": {},
   "outputs": [],
   "source": [
    "profiles_complete = spark.sql(\"\"\"\n",
    "select p.*, g.friends_profile from profiles p left join (\n",
    "select first_user_id user_id, collect_list(struct(p.user_id, p.chks)) friends_profile\n",
    "from socialgraph g inner join profiles p  on g.second_user_id = p.id group by 1 ) g \n",
    "on g.user_id = p.user_id\n",
    "\"\"\")"
   ]
  },
  {
   "cell_type": "code",
   "execution_count": 97,
   "metadata": {},
   "outputs": [],
   "source": [
    "profiles_complete.write.format(\"orc\").mode(\"overwrite\").save(\"data/profiles_complete\")"
   ]
  },
  {
   "cell_type": "code",
   "execution_count": 101,
   "metadata": {},
   "outputs": [
    {
     "data": {
      "text/plain": [
       "[Row(id=148, u_latitude=32.8140177, u_longitude=-96.9488945, user_id=148, chks=[Row(id=432205, venue_id=9310, latitude=32.897605780066, longitude=-97.0405197143555, c_latitude=32.8140177, c_longitude=-96.9488945, created_at=datetime.datetime(2012, 1, 23, 22, 40, 1), rating=2.0, total_chk=2, checkin_seq=1, total_venue_chk=1, dst=0.12402478395390161), Row(id=489937, venue_id=7489, latitude=42.2077950049541, longitude=-83.3562970161438, c_latitude=32.8140177, c_longitude=-96.9488945, created_at=datetime.datetime(2012, 1, 26, 10, 45, 41), rating=2.0, total_chk=2, checkin_seq=2, total_venue_chk=1, dst=16.522764853776877)], total_chk=2, distinct_chk=2, median_dst=0.12402478395390161, median_rating=2.0, p95_rating=2.0, friends=[88382, 88379, 52, 88386, 88383, 88380, 56, 88387, 88384, 88381, 88385, 7, 88378], friends_profile=[Row(user_id=88382, chks=[Row(id=322364, venue_id=310280, latitude=37.4860284355555, longitude=-122.228608131409, c_latitude=37.3541079, c_longitude=-121.9552356, created_at=datetime.datetime(2011, 12, 24, 21, 24, 35), rating=2.0, total_chk=2, checkin_seq=2, total_venue_chk=1, dst=0.30353841376375784), Row(id=113977, venue_id=14041, latitude=37.779843, longitude=-122.390214, c_latitude=37.3541079, c_longitude=-121.9552356, created_at=datetime.datetime(2011, 12, 11, 3, 0, 14), rating=2.0, total_chk=2, checkin_seq=1, total_venue_chk=1, dst=0.6086514469206268)]), Row(user_id=88382, chks=[Row(id=322364, venue_id=310280, latitude=37.4860284355555, longitude=-122.228608131409, c_latitude=37.3541079, c_longitude=-121.9552356, created_at=datetime.datetime(2011, 12, 24, 21, 24, 35), rating=2.0, total_chk=2, checkin_seq=2, total_venue_chk=1, dst=0.30353841376375784), Row(id=113977, venue_id=14041, latitude=37.779843, longitude=-122.390214, c_latitude=37.3541079, c_longitude=-121.9552356, created_at=datetime.datetime(2011, 12, 11, 3, 0, 14), rating=2.0, total_chk=2, checkin_seq=1, total_venue_chk=1, dst=0.6086514469206268)]), Row(user_id=88379, chks=[Row(id=485164, venue_id=1027513, latitude=36.1404654, longitude=-86.6510329, c_latitude=35.9250637, c_longitude=-86.8688899, created_at=datetime.datetime(2012, 1, 26, 4, 38, 24), rating=2.0, total_chk=3, checkin_seq=3, total_venue_chk=1, dst=0.3063650841918596), Row(id=430043, venue_id=230438, latitude=19.4336527138753, longitude=-99.0834617614746, c_latitude=35.9250637, c_longitude=-86.8688899, created_at=datetime.datetime(2012, 1, 23, 19, 21, 24), rating=2.0, total_chk=3, checkin_seq=1, total_venue_chk=1, dst=20.522241643456045), Row(id=477839, venue_id=2297, latitude=33.6397759043237, longitude=-84.4362831115723, c_latitude=35.9250637, c_longitude=-86.8688899, created_at=datetime.datetime(2012, 1, 26, 1, 53, 17), rating=2.5, total_chk=3, checkin_seq=2, total_venue_chk=1, dst=3.3376812454414537)]), Row(user_id=88379, chks=[Row(id=485164, venue_id=1027513, latitude=36.1404654, longitude=-86.6510329, c_latitude=35.9250637, c_longitude=-86.8688899, created_at=datetime.datetime(2012, 1, 26, 4, 38, 24), rating=2.0, total_chk=3, checkin_seq=3, total_venue_chk=1, dst=0.3063650841918596), Row(id=430043, venue_id=230438, latitude=19.4336527138753, longitude=-99.0834617614746, c_latitude=35.9250637, c_longitude=-86.8688899, created_at=datetime.datetime(2012, 1, 23, 19, 21, 24), rating=2.0, total_chk=3, checkin_seq=1, total_venue_chk=1, dst=20.522241643456045), Row(id=477839, venue_id=2297, latitude=33.6397759043237, longitude=-84.4362831115723, c_latitude=35.9250637, c_longitude=-86.8688899, created_at=datetime.datetime(2012, 1, 26, 1, 53, 17), rating=2.5, total_chk=3, checkin_seq=2, total_venue_chk=1, dst=3.3376812454414537)]), Row(user_id=88380, chks=[Row(id=438734, venue_id=9310, latitude=32.897605780066, longitude=-97.0405197143555, c_latitude=39.1962993, c_longitude=-120.2354465, created_at=datetime.datetime(2012, 1, 24, 0, 40, 27), rating=2.0, total_chk=3, checkin_seq=2, total_venue_chk=1, dst=24.03493641866912), Row(id=456187, venue_id=5222, latitude=37.6164070557799, longitude=-122.386236190796, c_latitude=39.1962993, c_longitude=-120.2354465, created_at=datetime.datetime(2012, 1, 24, 7, 6, 2), rating=2.0, total_chk=3, checkin_seq=3, total_venue_chk=1, dst=2.668699270689971), Row(id=224069, venue_id=32679, latitude=26.0710853213301, longitude=-80.1408863067627, c_latitude=39.1962993, c_longitude=-120.2354465, created_at=datetime.datetime(2011, 12, 14, 15, 6, 33), rating=2.0, total_chk=3, checkin_seq=1, total_venue_chk=1, dst=42.18820924233453)]), Row(user_id=88380, chks=[Row(id=438734, venue_id=9310, latitude=32.897605780066, longitude=-97.0405197143555, c_latitude=39.1962993, c_longitude=-120.2354465, created_at=datetime.datetime(2012, 1, 24, 0, 40, 27), rating=2.0, total_chk=3, checkin_seq=2, total_venue_chk=1, dst=24.03493641866912), Row(id=456187, venue_id=5222, latitude=37.6164070557799, longitude=-122.386236190796, c_latitude=39.1962993, c_longitude=-120.2354465, created_at=datetime.datetime(2012, 1, 24, 7, 6, 2), rating=2.0, total_chk=3, checkin_seq=3, total_venue_chk=1, dst=2.668699270689971), Row(id=224069, venue_id=32679, latitude=26.0710853213301, longitude=-80.1408863067627, c_latitude=39.1962993, c_longitude=-120.2354465, created_at=datetime.datetime(2011, 12, 14, 15, 6, 33), rating=2.0, total_chk=3, checkin_seq=1, total_venue_chk=1, dst=42.18820924233453)]), Row(user_id=88378, chks=[Row(id=399085, venue_id=4202, latitude=30.2025773011835, longitude=-97.6671481132507, c_latitude=30.267153, c_longitude=-97.7430608, created_at=datetime.datetime(2011, 12, 27, 2, 33, 16), rating=2.0, total_chk=3, checkin_seq=2, total_venue_chk=2, dst=0.09966321732281898), Row(id=751631, venue_id=4202, latitude=30.2025773011835, longitude=-97.6671481132507, c_latitude=30.267153, c_longitude=-97.7430608, created_at=datetime.datetime(2012, 3, 18, 22, 59, 59), rating=2.0, total_chk=3, checkin_seq=3, total_venue_chk=2, dst=0.09966321732281898), Row(id=278847, venue_id=503933, latitude=30.2916819558522, longitude=-97.8256559371948, c_latitude=30.267153, c_longitude=-97.7430608, created_at=datetime.datetime(2011, 12, 23, 22, 43, 7), rating=2.0, total_chk=3, checkin_seq=1, total_venue_chk=1, dst=0.08616046868156649)]), Row(user_id=88378, chks=[Row(id=399085, venue_id=4202, latitude=30.2025773011835, longitude=-97.6671481132507, c_latitude=30.267153, c_longitude=-97.7430608, created_at=datetime.datetime(2011, 12, 27, 2, 33, 16), rating=2.0, total_chk=3, checkin_seq=2, total_venue_chk=2, dst=0.09966321732281898), Row(id=751631, venue_id=4202, latitude=30.2025773011835, longitude=-97.6671481132507, c_latitude=30.267153, c_longitude=-97.7430608, created_at=datetime.datetime(2012, 3, 18, 22, 59, 59), rating=2.0, total_chk=3, checkin_seq=3, total_venue_chk=2, dst=0.09966321732281898), Row(id=278847, venue_id=503933, latitude=30.2916819558522, longitude=-97.8256559371948, c_latitude=30.267153, c_longitude=-97.7430608, created_at=datetime.datetime(2011, 12, 23, 22, 43, 7), rating=2.0, total_chk=3, checkin_seq=1, total_venue_chk=1, dst=0.08616046868156649)])])]"
      ]
     },
     "execution_count": 101,
     "metadata": {},
     "output_type": "execute_result"
    }
   ],
   "source": [
    "profiles_complete.take(1)"
   ]
  }
 ],
 "metadata": {
  "kernelspec": {
   "display_name": "Python 3",
   "language": "python",
   "name": "python3"
  },
  "language_info": {
   "codemirror_mode": {
    "name": "ipython",
    "version": 3
   },
   "file_extension": ".py",
   "mimetype": "text/x-python",
   "name": "python",
   "nbconvert_exporter": "python",
   "pygments_lexer": "ipython3",
   "version": "3.7.7"
  }
 },
 "nbformat": 4,
 "nbformat_minor": 4
}
